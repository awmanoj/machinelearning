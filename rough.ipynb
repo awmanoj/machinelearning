{
 "metadata": {
  "name": ""
 },
 "nbformat": 3,
 "nbformat_minor": 0,
 "worksheets": [
  {
   "cells": [
    {
     "cell_type": "code",
     "collapsed": false,
     "input": [
      "import linearRegression as linreg\n",
      "from numpy import *\n",
      "\n",
      "inputs = array(([[0,0],[0,1],[1,0],[1,1]]))\n",
      "targets = array(([0],[1],[1],[1]))\n",
      "\n",
      "beta = linreg.train(inputs, targets)"
     ],
     "language": "python",
     "metadata": {},
     "outputs": [],
     "prompt_number": 1
    },
    {
     "cell_type": "code",
     "collapsed": false,
     "input": [
      "beta"
     ],
     "language": "python",
     "metadata": {},
     "outputs": [
      {
       "metadata": {},
       "output_type": "pyout",
       "prompt_number": 2,
       "text": [
        "array([[-0.25],\n",
        "       [ 0.5 ],\n",
        "       [ 0.5 ]])"
       ]
      }
     ],
     "prompt_number": 2
    },
    {
     "cell_type": "code",
     "collapsed": false,
     "input": [
      "linreg.classify(inputs, beta)"
     ],
     "language": "python",
     "metadata": {},
     "outputs": [
      {
       "output_type": "stream",
       "stream": "stdout",
       "text": [
        "[[ 0.25]\n",
        " [ 0.75]\n",
        " [ 0.75]\n",
        " [ 1.25]]\n"
       ]
      }
     ],
     "prompt_number": 3
    },
    {
     "cell_type": "code",
     "collapsed": false,
     "input": [
      "import mlp\n",
      "from numpy import *\n",
      "inputs = array(([[0,0],[0,1],[1,0],[1,1]]))\n",
      "targets = array(([0],[1],[1],[0]))\n",
      "\n",
      "mlp.train(inputs, targets, 0.25, 5000)"
     ],
     "language": "python",
     "metadata": {},
     "outputs": [
      {
       "output_type": "stream",
       "stream": "stdout",
       "text": [
        "Iteration 1: Error = 0.501341252128\n",
        "Iteration 101: Error = 0.499986741005\n",
        "Iteration 201: Error = 0.499866646644\n",
        "Iteration 301: Error = 0.499732770435\n",
        "Iteration 401: Error = 0.499609174714\n",
        "Iteration 501: Error = 0.499512926019\n",
        "Iteration 601: Error = 0.499454462057"
       ]
      },
      {
       "output_type": "stream",
       "stream": "stdout",
       "text": [
        "\n",
        "Iteration 701: Error = 0.499438272887\n",
        "Iteration 801: Error = 0.499463297434\n",
        "Iteration 901: Error = 0.499523349816\n",
        "Iteration 1001: Error = 0.499608114743\n",
        "Iteration 1101: Error = 0.499704942715\n",
        "Iteration 1201: Error = 0.499801158363\n",
        "Iteration 1301: Error = 0.499886230816"
       ]
      },
      {
       "output_type": "stream",
       "stream": "stdout",
       "text": [
        "\n",
        "Iteration 1401: Error = 0.499953171529\n",
        "Iteration 1501: Error = 0.499998878765\n",
        "Iteration 1601: Error = 0.500023581461\n",
        "Iteration 1701: Error = 0.500029796897\n",
        "Iteration 1801: Error = 0.500021229457\n",
        "Iteration 1901: Error = 0.500001888617\n",
        "Iteration 2001: Error = 0.499975524708"
       ]
      },
      {
       "output_type": "stream",
       "stream": "stdout",
       "text": [
        "\n",
        "Iteration 2101: Error = 0.499945354363\n",
        "Iteration 2201: Error = 0.499913991592\n",
        "Iteration 2301: Error = 0.499883495487\n",
        "Iteration 2401: Error = 0.499855464895\n",
        "Iteration 2501: Error = 0.499831134989\n",
        "Iteration 2601: Error = 0.499811451897\n",
        "Iteration 2701: Error = 0.499797117002\n",
        "Iteration 2801: Error = 0.499788603105"
       ]
      },
      {
       "output_type": "stream",
       "stream": "stdout",
       "text": [
        "\n",
        "Iteration 2901: Error = 0.499786151407\n",
        "Iteration 3001: Error = 0.499789761753\n",
        "Iteration 3101: Error = 0.499799188828\n",
        "Iteration 3201: Error = 0.499813954136\n",
        "Iteration 3301: Error = 0.4998333783\n",
        "Iteration 3401: Error = 0.499856632108\n",
        "Iteration 3501: Error = 0.4998827996"
       ]
      },
      {
       "output_type": "stream",
       "stream": "stdout",
       "text": [
        "\n",
        "Iteration 3601: Error = 0.499910943823\n",
        "Iteration 3701: Error = 0.499940166061\n",
        "Iteration 3801: Error = 0.499969651899\n",
        "Iteration 3901: Error = 0.499998700977\n",
        "Iteration 4001: Error = 0.500026740727\n",
        "Iteration 4101: Error = 0.500053326701\n",
        "Iteration 4201: Error = 0.500078133289\n",
        "Iteration 4301: Error = 0.50010093867"
       ]
      },
      {
       "output_type": "stream",
       "stream": "stdout",
       "text": [
        "\n",
        "Iteration 4401: Error = 0.500121607258\n",
        "Iteration 4501: Error = 0.50014007203\n",
        "Iteration 4601: Error = 0.500156318242\n",
        "Iteration 4701: Error = 0.500170369312\n",
        "Iteration 4801: Error = 0.500182275136\n",
        "Iteration 4901: Error = 0.500192102777\n",
        "[[ 0.50768799]\n",
        " [ 0.50342301]\n",
        " [ 0.49655584]\n",
        " [ 0.49255244]]\n"
       ]
      }
     ],
     "prompt_number": 5
    },
    {
     "cell_type": "code",
     "collapsed": false,
     "input": [],
     "language": "python",
     "metadata": {},
     "outputs": [],
     "prompt_number": 5
    },
    {
     "cell_type": "code",
     "collapsed": false,
     "input": [],
     "language": "python",
     "metadata": {},
     "outputs": [],
     "prompt_number": 5
    },
    {
     "cell_type": "code",
     "collapsed": false,
     "input": [],
     "language": "python",
     "metadata": {},
     "outputs": [],
     "prompt_number": 4
    },
    {
     "cell_type": "code",
     "collapsed": false,
     "input": [],
     "language": "python",
     "metadata": {},
     "outputs": []
    }
   ],
   "metadata": {}
  }
 ]
}