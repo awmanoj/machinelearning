{
 "metadata": {
  "name": ""
 },
 "nbformat": 3,
 "nbformat_minor": 0,
 "worksheets": [
  {
   "cells": [
    {
     "cell_type": "code",
     "collapsed": false,
     "input": [
      "import perceptron as pn\n",
      "from numpy import *\n",
      "\n",
      "inputs = array([[0, 0],[0,1],[1,0],[1,1]])\n",
      "targets = array([[0],[1],[1],[1]])\n",
      "\n",
      "a, w = pn.pcntrain(inputs, targets, 0.25, 10)"
     ],
     "language": "python",
     "metadata": {},
     "outputs": [
      {
       "output_type": "stream",
       "stream": "stdout",
       "text": [
        "Iteration: 1\n",
        "[[-0.71012062]\n",
        " [ 0.52437353]\n",
        " [ 0.4649528 ]]\n",
        "Iteration: 2\n",
        "[[-0.46012062]\n",
        " [ 0.52437353]\n",
        " [ 0.4649528 ]]\n",
        "Iteration: 3\n",
        "[[-0.21012062]\n",
        " [ 0.52437353]\n",
        " [ 0.4649528 ]]\n",
        "Iteration: 4\n",
        "[[ 0.03987938]\n",
        " [ 0.52437353]\n",
        " [ 0.4649528 ]]\n",
        "Iteration: 5\n",
        "[[ 0.03987938]\n",
        " [ 0.52437353]\n",
        " [ 0.4649528 ]]\n",
        "Iteration: 6\n",
        "[[ 0.03987938]\n",
        " [ 0.52437353]\n",
        " [ 0.4649528 ]]\n",
        "Iteration: 7\n",
        "[[ 0.03987938]\n",
        " [ 0.52437353]\n",
        " [ 0.4649528 ]]\n",
        "Iteration: 8\n",
        "[[ 0.03987938]\n",
        " [ 0.52437353]\n",
        " [ 0.4649528 ]]\n",
        "Iteration: 9\n",
        "[[ 0.03987938]\n",
        " [ 0.52437353]\n",
        " [ 0.4649528 ]]\n",
        "Iteration: 10\n",
        "[[ 0.03987938]\n",
        " [ 0.52437353]\n",
        " [ 0.4649528 ]]\n"
       ]
      }
     ],
     "prompt_number": 3
    },
    {
     "cell_type": "code",
     "collapsed": false,
     "input": [
      "pn.pcnfwd(array([[-1,0,1]]), w)"
     ],
     "language": "python",
     "metadata": {},
     "outputs": [
      {
       "metadata": {},
       "output_type": "pyout",
       "prompt_number": 6,
       "text": [
        "array([[1]])"
       ]
      }
     ],
     "prompt_number": 6
    },
    {
     "cell_type": "code",
     "collapsed": false,
     "input": [
      "pn.pcnfwd(array([[-1,0,0]]), w)"
     ],
     "language": "python",
     "metadata": {},
     "outputs": [
      {
       "metadata": {},
       "output_type": "pyout",
       "prompt_number": 7,
       "text": [
        "array([[0]])"
       ]
      }
     ],
     "prompt_number": 7
    },
    {
     "cell_type": "code",
     "collapsed": false,
     "input": [],
     "language": "python",
     "metadata": {},
     "outputs": []
    }
   ],
   "metadata": {}
  }
 ]
}